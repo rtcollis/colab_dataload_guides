{
  "nbformat": 4,
  "nbformat_minor": 0,
  "metadata": {
    "colab": {
      "name": "External data: Google Drive",
      "provenance": [],
      "collapsed_sections": []
    },
    "kernelspec": {
      "display_name": "Python 3",
      "name": "python3"
    }
  },
  "cells": [
    {
      "cell_type": "markdown",
      "metadata": {
        "id": "7Z2jcRKwUHqV"
      },
      "source": [
        "This notebook provides recipes for loading and saving data from external sources."
      ]
    },
    {
      "cell_type": "markdown",
      "metadata": {
        "id": "c2W5A2px3doP"
      },
      "source": [
        "# Google Drive\n",
        "\n",
        "You can access files in Drive by mounting your Google Drive in the runtime's virtual machine\n",
        "\n",
        "Examples below."
      ]
    },
    {
      "cell_type": "markdown",
      "metadata": {
        "id": "u22w3BFiOveA"
      },
      "source": [
        "## Mounting Google Drive locally\n",
        "\n",
        "The example below shows how to mount your Google Drive on your runtime using an authorisation code, and how to write and read files there. Once executed, you will be able to see the new file &#40;<code>foo.txt</code>&#41; at <a href=\"https://drive.google.com/\">https://drive.google.com/</a>.\n",
        "\n",
        "This only supports reading, writing and moving files; to programmatically modify sharing settings or other metadata, use one of the other options below.\n",
        "\n",
        "<strong>Note:</strong> When using the 'Mount Drive' button in the file browser, no authentication codes are necessary for notebooks that have only been edited by the current user."
      ]
    },
    {
      "cell_type": "code",
      "metadata": {
        "id": "RWSJpsyKqHjH"
      },
      "source": [
        "from google.colab import drive\n",
        "drive.mount('/content/drive',  force_remount=True)"
      ],
      "execution_count": null,
      "outputs": []
    },
    {
      "cell_type": "code",
      "metadata": {
        "id": "tUw06JxSqurR"
      },
      "source": [
        "with open('/content/drive/My Drive/Colab Notebooks/User_Guide/Data/test.txt', 'w') as f:\n",
        "  f.write('Hello Google Drive!')\n",
        "!cat /content/drive/My\\ Drive/Colab\\ Notebooks/User_Guide/Data/test.txt"
      ],
      "execution_count": null,
      "outputs": []
    },
    {
      "cell_type": "markdown",
      "metadata": {
        "id": "xs7MWqdQmUpp"
      },
      "source": [
        "## List content of directory"
      ]
    },
    {
      "cell_type": "markdown",
      "metadata": {
        "id": "86h1EwttmdRs"
      },
      "source": [
        "Using the ***ls*** command we list the contents of the current working directory. We can see the newly created files from Google Drive. "
      ]
    },
    {
      "cell_type": "code",
      "metadata": {
        "id": "Z-ELXaGjmfqk"
      },
      "source": [
        "! ls"
      ],
      "execution_count": null,
      "outputs": []
    },
    {
      "cell_type": "markdown",
      "metadata": {
        "id": "IYO7A14miL1t"
      },
      "source": [
        "## Accessing the Google Drive from Google Colab"
      ]
    },
    {
      "cell_type": "markdown",
      "metadata": {
        "id": "V9HzIOAjikYo"
      },
      "source": [
        "Let's look at the contents of the **\"Colab_Notebooks\"** folder in our Google Drive."
      ]
    },
    {
      "cell_type": "code",
      "metadata": {
        "id": "MJUx0m5bimP2"
      },
      "source": [
        "! ls \"/content/drive/My Drive/Colab Notebooks/\""
      ],
      "execution_count": null,
      "outputs": []
    },
    {
      "cell_type": "markdown",
      "metadata": {
        "id": "fCUslnnnlgyQ"
      },
      "source": [
        "## Copy files from Google Drive into your Google Colab"
      ]
    },
    {
      "cell_type": "markdown",
      "metadata": {
        "id": "4JBXicOTlmXv"
      },
      "source": [
        "We should be aware that contents of the Colab working directory will automatically be removed when the session ends. The path of the Colab working directory can be shown by using the pwd command."
      ]
    },
    {
      "cell_type": "code",
      "metadata": {
        "id": "UhPn3qhykv2q"
      },
      "source": [
        "! pwd"
      ],
      "execution_count": null,
      "outputs": []
    },
    {
      "cell_type": "markdown",
      "metadata": {
        "id": "LDG2_xeqqF-R"
      },
      "source": [
        "The code below lists a dummy dataset 'test.csv' listed in a dataset directory in Google Drive"
      ]
    },
    {
      "cell_type": "code",
      "metadata": {
        "id": "etyRYVXDppEK"
      },
      "source": [
        "ls \"/content/drive/My Drive/Colab Notebooks/User_Guide/Data/\""
      ],
      "execution_count": null,
      "outputs": []
    },
    {
      "cell_type": "markdown",
      "metadata": {
        "id": "wyi_6zWRqQOo"
      },
      "source": [
        "The code below copies the 'test_data.csv' file into the current working directory  by using the full stop command at the end of the copy statement"
      ]
    },
    {
      "cell_type": "code",
      "metadata": {
        "id": "UieVncRiqQja"
      },
      "source": [
        "! cp \"/content/drive/My Drive/Colab Notebooks/User_Guide/Data/test_data.csv\" ."
      ],
      "execution_count": null,
      "outputs": []
    },
    {
      "cell_type": "markdown",
      "metadata": {
        "id": "pl4zzwkoqxcv"
      },
      "source": [
        "Check that the 'test_data.csv' file has been copied into the colab working directory which remains /content"
      ]
    },
    {
      "cell_type": "code",
      "metadata": {
        "id": "IDt1gFh5qoDr"
      },
      "source": [
        "! ls"
      ],
      "execution_count": null,
      "outputs": []
    },
    {
      "cell_type": "markdown",
      "metadata": {
        "id": "cxnsTwNArK_4"
      },
      "source": [
        "## Copy files from Google Colab to Google Drive"
      ]
    },
    {
      "cell_type": "markdown",
      "metadata": {
        "id": "BLIdv_w5s077"
      },
      "source": [
        "Create a sample data_sample txt file which will be added to the Colab working directory"
      ]
    },
    {
      "cell_type": "code",
      "metadata": {
        "id": "9v-axzvrrea3"
      },
      "source": [
        "data_sample = open(\"txt_sample.txt\", \"w\")\n",
        "data_sample.write(\"The quick brown fox jumped over the lazy cat.\")\n",
        "data_sample.close()"
      ],
      "execution_count": null,
      "outputs": []
    },
    {
      "cell_type": "markdown",
      "metadata": {
        "id": "LZhUQhb5rhdU"
      },
      "source": [
        "Copy the sample data txt file into the dataset directory on Google Drive and confirm its copy in the Google Drive directory"
      ]
    },
    {
      "cell_type": "code",
      "metadata": {
        "id": "UvAPhS0VscrC"
      },
      "source": [
        "! ls"
      ],
      "execution_count": null,
      "outputs": []
    },
    {
      "cell_type": "code",
      "metadata": {
        "id": "DwdoKI2ptOGg"
      },
      "source": [
        "! cp txt_sample.txt \"/content/drive/My Drive/Colab Notebooks/User_Guide/Data/\""
      ],
      "execution_count": null,
      "outputs": []
    },
    {
      "cell_type": "code",
      "metadata": {
        "id": "tDSOANYutY4Q"
      },
      "source": [
        "! ls \"/content/drive/My Drive/Colab Notebooks/User_Guide/Data/\""
      ],
      "execution_count": null,
      "outputs": []
    },
    {
      "cell_type": "markdown",
      "metadata": {
        "id": "odc67zAov-V4"
      },
      "source": [
        "## Move files from Google Colab to Google Drive"
      ]
    },
    {
      "cell_type": "markdown",
      "metadata": {
        "id": "lAa99N5wwliV"
      },
      "source": [
        "We will be downloading some data from the Data Professor GitHub and adding to the working directory in colab"
      ]
    },
    {
      "cell_type": "code",
      "metadata": {
        "id": "HeTcRmGUwmW2"
      },
      "source": [
        "! wget https://github.com/dataprofessor/data/raw/master/weather-weka.csv"
      ],
      "execution_count": null,
      "outputs": []
    },
    {
      "cell_type": "markdown",
      "metadata": {
        "id": "x9AE3s8XdvA4"
      },
      "source": [
        "Check the contents of the working directory"
      ]
    },
    {
      "cell_type": "code",
      "metadata": {
        "id": "u2XBt6HFwEbe"
      },
      "source": [
        "! ls"
      ],
      "execution_count": null,
      "outputs": []
    },
    {
      "cell_type": "markdown",
      "metadata": {
        "id": "jWvqpBGyw1x4"
      },
      "source": [
        "Use the mv command to move files to the Google Drive."
      ]
    },
    {
      "cell_type": "code",
      "metadata": {
        "id": "nc4xmHipw2hk"
      },
      "source": [
        "! mv weather-weka.csv \"/content/drive/My Drive/Colab Notebooks/User_Guide/Data/\""
      ],
      "execution_count": null,
      "outputs": []
    },
    {
      "cell_type": "markdown",
      "metadata": {
        "id": "v3p5lthlw_-i"
      },
      "source": [
        "Let's list the contents of the dataset directory on Google Drive to see whether the copied file is indeed present."
      ]
    },
    {
      "cell_type": "code",
      "metadata": {
        "id": "ExO-FWOBw_Mu"
      },
      "source": [
        "! ls \"/content/drive/My Drive/Colab Notebooks/User_Guide/Data/\""
      ],
      "execution_count": null,
      "outputs": []
    },
    {
      "cell_type": "markdown",
      "metadata": {
        "id": "vFh8M0esxIdk"
      },
      "source": [
        "The file weather-weka.csv is moved to the destination directory from the source directory (the file no longer exists)."
      ]
    },
    {
      "cell_type": "code",
      "metadata": {
        "id": "KepJ3xSYxJkI"
      },
      "source": [
        "! ls"
      ],
      "execution_count": null,
      "outputs": []
    },
    {
      "cell_type": "code",
      "metadata": {
        "id": "D78AM1fFt2ty"
      },
      "source": [
        "drive.flush_and_unmount()\n",
        "print('All changes made in this colab session should now be visible in Drive.')"
      ],
      "execution_count": null,
      "outputs": []
    }
  ]
}